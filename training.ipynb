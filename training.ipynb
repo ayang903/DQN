{
 "cells": [
  {
   "cell_type": "code",
   "execution_count": 7,
   "metadata": {},
   "outputs": [
    {
     "name": "stderr",
     "output_type": "stream",
     "text": [
      "/Users/andyyang/Desktop/DS598 Reinforcement Learning/gym-examples/.env/lib/python3.11/site-packages/gym/utils/passive_env_checker.py:233: DeprecationWarning: `np.bool8` is a deprecated alias for `np.bool_`.  (Deprecated NumPy 1.24)\n",
      "  if not isinstance(terminated, (bool, np.bool8)):\n",
      "/Users/andyyang/Desktop/DS598 Reinforcement Learning/gym-examples/.env/lib/python3.11/site-packages/gym/utils/passive_env_checker.py:141: UserWarning: \u001b[33mWARN: The obs returned by the `step()` method was expecting numpy array dtype to be int64, actual type: float64\u001b[0m\n",
      "  logger.warn(\n",
      "/Users/andyyang/Desktop/DS598 Reinforcement Learning/gym-examples/.env/lib/python3.11/site-packages/gym/utils/passive_env_checker.py:165: UserWarning: \u001b[33mWARN: The obs returned by the `step()` method is not within the observation space.\u001b[0m\n",
      "  logger.warn(f\"{pre} is not within the observation space.\")\n"
     ]
    },
    {
     "ename": "ValueError",
     "evalue": "too many values to unpack (expected 4)",
     "output_type": "error",
     "traceback": [
      "\u001b[0;31m---------------------------------------------------------------------------\u001b[0m",
      "\u001b[0;31mValueError\u001b[0m                                Traceback (most recent call last)",
      "\u001b[1;32m/Users/andyyang/Desktop/DS598 Reinforcement Learning/gym-examples/training.ipynb Cell 1\u001b[0m line \u001b[0;36m3\n\u001b[1;32m      <a href='vscode-notebook-cell:/Users/andyyang/Desktop/DS598%20Reinforcement%20Learning/gym-examples/training.ipynb#W0sZmlsZQ%3D%3D?line=0'>1</a>\u001b[0m \u001b[39m# Training Loop\u001b[39;00m\n\u001b[1;32m      <a href='vscode-notebook-cell:/Users/andyyang/Desktop/DS598%20Reinforcement%20Learning/gym-examples/training.ipynb#W0sZmlsZQ%3D%3D?line=1'>2</a>\u001b[0m \u001b[39mimport\u001b[39;00m \u001b[39mgym\u001b[39;00m\n\u001b[0;32m----> <a href='vscode-notebook-cell:/Users/andyyang/Desktop/DS598%20Reinforcement%20Learning/gym-examples/training.ipynb#W0sZmlsZQ%3D%3D?line=2'>3</a>\u001b[0m \u001b[39mfrom\u001b[39;00m \u001b[39mchatdqn\u001b[39;00m \u001b[39mimport\u001b[39;00m DQNAgent\n\u001b[1;32m      <a href='vscode-notebook-cell:/Users/andyyang/Desktop/DS598%20Reinforcement%20Learning/gym-examples/training.ipynb#W0sZmlsZQ%3D%3D?line=4'>5</a>\u001b[0m \u001b[39m# Training Loop\u001b[39;00m\n\u001b[1;32m      <a href='vscode-notebook-cell:/Users/andyyang/Desktop/DS598%20Reinforcement%20Learning/gym-examples/training.ipynb#W0sZmlsZQ%3D%3D?line=5'>6</a>\u001b[0m \u001b[39mdef\u001b[39;00m \u001b[39mtrain_dqqn\u001b[39m(env):\n",
      "File \u001b[0;32m~/Desktop/DS598 Reinforcement Learning/gym-examples/chatdqn.py:133\u001b[0m\n\u001b[1;32m    129\u001b[0m             \u001b[39mprint\u001b[39m(\u001b[39mf\u001b[39m\u001b[39m\"\u001b[39m\u001b[39mEpisode \u001b[39m\u001b[39m{\u001b[39;00me\u001b[39m}\u001b[39;00m\u001b[39m/\u001b[39m\u001b[39m{\u001b[39;00mepisodes\u001b[39m}\u001b[39;00m\u001b[39m - Time step: \u001b[39m\u001b[39m{\u001b[39;00mtime_step\u001b[39m}\u001b[39;00m\u001b[39m - Average Loss: \u001b[39m\u001b[39m{\u001b[39;00mtotal_loss\u001b[39m/\u001b[39mtime_step\u001b[39m \u001b[39m\u001b[39mif\u001b[39;00m\u001b[39m \u001b[39mtime_step\u001b[39m \u001b[39m\u001b[39melse\u001b[39;00m\u001b[39m \u001b[39m\u001b[39m0\u001b[39m\u001b[39m:\u001b[39;00m\u001b[39m.4f\u001b[39m\u001b[39m}\u001b[39;00m\u001b[39m - Epsilon: \u001b[39m\u001b[39m{\u001b[39;00magent\u001b[39m.\u001b[39mepsilon\u001b[39m:\u001b[39;00m\u001b[39m.2f\u001b[39m\u001b[39m}\u001b[39;00m\u001b[39m\"\u001b[39m)\n\u001b[1;32m    132\u001b[0m env \u001b[39m=\u001b[39m gym\u001b[39m.\u001b[39mmake(\u001b[39m'\u001b[39m\u001b[39mgym_examples/GridWorld-v0\u001b[39m\u001b[39m'\u001b[39m, size\u001b[39m=\u001b[39m\u001b[39m4\u001b[39m)\n\u001b[0;32m--> 133\u001b[0m train_dqn(env)\n",
      "File \u001b[0;32m~/Desktop/DS598 Reinforcement Learning/gym-examples/chatdqn.py:118\u001b[0m, in \u001b[0;36mtrain_dqn\u001b[0;34m(env)\u001b[0m\n\u001b[1;32m    116\u001b[0m \u001b[39mwhile\u001b[39;00m \u001b[39mnot\u001b[39;00m done:\n\u001b[1;32m    117\u001b[0m     action \u001b[39m=\u001b[39m agent\u001b[39m.\u001b[39mact(torch\u001b[39m.\u001b[39mFloatTensor(state)\u001b[39m.\u001b[39munsqueeze(\u001b[39m0\u001b[39m))  \u001b[39m# Convert state to tensor and add batch dimension\u001b[39;00m\n\u001b[0;32m--> 118\u001b[0m     observation, reward, done, _ \u001b[39m=\u001b[39m env\u001b[39m.\u001b[39mstep(action)\n\u001b[1;32m    119\u001b[0m     next_state \u001b[39m=\u001b[39m observation[\u001b[39m'\u001b[39m\u001b[39magent\u001b[39m\u001b[39m'\u001b[39m]  \u001b[39m# Update next_state with the agent's new position\u001b[39;00m\n\u001b[1;32m    121\u001b[0m     agent\u001b[39m.\u001b[39mmemory\u001b[39m.\u001b[39mpush(state, action, reward, next_state, done)\n",
      "\u001b[0;31mValueError\u001b[0m: too many values to unpack (expected 4)"
     ]
    }
   ],
   "source": [
    "# Training Loop\n",
    "import gym\n",
    "from chatdqn import DQNAgent\n",
    "\n",
    "# Training Loop\n",
    "def train_dqqn(env):\n",
    "    state_size=16\n",
    "    \n",
    "    action_size = env.action_space.n\n",
    "    agent = DQNAgent(state_size, action_size)\n",
    "    episodes = 5  # Number of episodes to train\n",
    "\n",
    "    for e in range(episodes):\n",
    "        observation, _ = env.reset()\n",
    "        state = observation['agent']  # Assuming 'agent' key contains the one-hot encoded state\n",
    "        done = False\n",
    "        time_step = 0\n",
    "        \n",
    "        while not done:\n",
    "            action = agent.act(state)\n",
    "            observation, reward, done, truncated, _ = env.step(action)\n",
    "\n",
    "            next_state = observation['agent']  # Update this based on your environment's structure\n",
    "            agent.memory.push(state, action, reward, next_state, done)\n",
    "            state = next_state\n",
    "            agent.learn()\n",
    "            time_step += 1\n",
    "        \n",
    "        if e % 10 == 0:  # Update the target network every 10 episodes\n",
    "            agent.update_target_network()\n",
    "            print(\"Episode {}/{} - Time step: {} - Epsilon: {:.2}\".format(e, episodes, time_step, agent.epsilon))\n",
    "\n",
    "# Make sure you have instantiated your environment correctly before calling train_dqn\n",
    "env = gym.make('gym_examples/GridWorld-v0', size=4)\n",
    "train_dqqn(env)\n"
   ]
  },
  {
   "cell_type": "code",
   "execution_count": null,
   "metadata": {},
   "outputs": [],
   "source": []
  }
 ],
 "metadata": {
  "kernelspec": {
   "display_name": ".env",
   "language": "python",
   "name": "python3"
  },
  "language_info": {
   "codemirror_mode": {
    "name": "ipython",
    "version": 3
   },
   "file_extension": ".py",
   "mimetype": "text/x-python",
   "name": "python",
   "nbconvert_exporter": "python",
   "pygments_lexer": "ipython3",
   "version": "3.11.6"
  }
 },
 "nbformat": 4,
 "nbformat_minor": 2
}
